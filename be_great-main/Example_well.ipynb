{
 "cells": [
  {
   "cell_type": "markdown",
   "id": "245418c1",
   "metadata": {},
   "source": [
    "## GReaT Example with Iris Dataset"
   ]
  },
  {
   "cell_type": "code",
   "execution_count": 34,
   "id": "ab1f4da7-4b93-4055-8d56-6030c7498999",
   "metadata": {},
   "outputs": [],
   "source": [
    "# Execute only once!\n",
    "import os\n",
    "import sys\n",
    "sys.path.append(\"..\")\n",
    "os.chdir(\"..\")\n",
    "os.environ[\"CUDA_VISIBLE_DEVICES\"]=\"0\""
   ]
  },
  {
   "cell_type": "code",
   "execution_count": 16,
   "id": "b5009b62",
   "metadata": {},
   "outputs": [],
   "source": [
    "import numpy as np\n",
    "import pandas as pd\n",
    "import logging\n",
    "from sklearn import datasets"
   ]
  },
  {
   "cell_type": "code",
   "execution_count": 17,
   "id": "71836c07-2530-44af-9b4b-cf72aff34426",
   "metadata": {},
   "outputs": [],
   "source": [
    "from utils import set_logging_level\n",
    "from be_great import GReaT\n"
   ]
  },
  {
   "cell_type": "code",
   "execution_count": 18,
   "id": "00695066",
   "metadata": {},
   "outputs": [],
   "source": [
    "import matplotlib.pyplot as plt"
   ]
  },
  {
   "cell_type": "code",
   "execution_count": 45,
   "id": "1b4d4b32",
   "metadata": {},
   "outputs": [],
   "source": [
    "import subprocess\n",
    "import os\n",
    "\n",
    "result = subprocess.run('bash -c \"source /etc/network_turbo && env | grep proxy\"', shell=True, capture_output=True, text=True)\n",
    "output = result.stdout\n",
    "for line in output.splitlines():\n",
    "    if '=' in line:\n",
    "        var, value = line.split('=', 1)\n",
    "        os.environ[var] = value"
   ]
  },
  {
   "cell_type": "code",
   "execution_count": 46,
   "id": "39088828",
   "metadata": {},
   "outputs": [],
   "source": [
    "logger = set_logging_level(logging.INFO)"
   ]
  },
  {
   "cell_type": "markdown",
   "id": "937c8223",
   "metadata": {},
   "source": [
    "### Load Data"
   ]
  },
  {
   "cell_type": "code",
   "execution_count": 47,
   "id": "9b77f31e",
   "metadata": {},
   "outputs": [
    {
     "data": {
      "text/html": [
       "<div>\n",
       "<style scoped>\n",
       "    .dataframe tbody tr th:only-of-type {\n",
       "        vertical-align: middle;\n",
       "    }\n",
       "\n",
       "    .dataframe tbody tr th {\n",
       "        vertical-align: top;\n",
       "    }\n",
       "\n",
       "    .dataframe thead th {\n",
       "        text-align: right;\n",
       "    }\n",
       "</style>\n",
       "<table border=\"1\" class=\"dataframe\">\n",
       "  <thead>\n",
       "    <tr style=\"text-align: right;\">\n",
       "      <th></th>\n",
       "      <th>LABEL</th>\n",
       "      <th>AC</th>\n",
       "      <th>CNL</th>\n",
       "      <th>DEN</th>\n",
       "      <th>CAL</th>\n",
       "      <th>GR</th>\n",
       "      <th>SP</th>\n",
       "      <th>PE</th>\n",
       "      <th>R25</th>\n",
       "      <th>RMG</th>\n",
       "      <th>RT</th>\n",
       "      <th>AT90</th>\n",
       "      <th>POR_data</th>\n",
       "    </tr>\n",
       "  </thead>\n",
       "  <tbody>\n",
       "    <tr>\n",
       "      <th>0</th>\n",
       "      <td>1</td>\n",
       "      <td>299.852</td>\n",
       "      <td>28.003</td>\n",
       "      <td>2.413</td>\n",
       "      <td>22.521</td>\n",
       "      <td>89.074</td>\n",
       "      <td>180.003</td>\n",
       "      <td>3.713</td>\n",
       "      <td>2.813</td>\n",
       "      <td>2.474</td>\n",
       "      <td>3.060</td>\n",
       "      <td>3.060</td>\n",
       "      <td>0.00001</td>\n",
       "    </tr>\n",
       "    <tr>\n",
       "      <th>1</th>\n",
       "      <td>1</td>\n",
       "      <td>358.319</td>\n",
       "      <td>36.019</td>\n",
       "      <td>2.332</td>\n",
       "      <td>26.886</td>\n",
       "      <td>88.415</td>\n",
       "      <td>180.122</td>\n",
       "      <td>2.551</td>\n",
       "      <td>4.239</td>\n",
       "      <td>1.630</td>\n",
       "      <td>4.206</td>\n",
       "      <td>4.206</td>\n",
       "      <td>0.00001</td>\n",
       "    </tr>\n",
       "    <tr>\n",
       "      <th>2</th>\n",
       "      <td>0</td>\n",
       "      <td>345.092</td>\n",
       "      <td>22.082</td>\n",
       "      <td>2.217</td>\n",
       "      <td>21.742</td>\n",
       "      <td>61.294</td>\n",
       "      <td>142.670</td>\n",
       "      <td>2.030</td>\n",
       "      <td>3.717</td>\n",
       "      <td>2.010</td>\n",
       "      <td>4.889</td>\n",
       "      <td>4.889</td>\n",
       "      <td>24.50000</td>\n",
       "    </tr>\n",
       "    <tr>\n",
       "      <th>3</th>\n",
       "      <td>1</td>\n",
       "      <td>363.517</td>\n",
       "      <td>48.564</td>\n",
       "      <td>2.299</td>\n",
       "      <td>23.598</td>\n",
       "      <td>67.300</td>\n",
       "      <td>169.452</td>\n",
       "      <td>2.282</td>\n",
       "      <td>3.839</td>\n",
       "      <td>1.158</td>\n",
       "      <td>2.833</td>\n",
       "      <td>2.833</td>\n",
       "      <td>0.00001</td>\n",
       "    </tr>\n",
       "    <tr>\n",
       "      <th>4</th>\n",
       "      <td>1</td>\n",
       "      <td>345.041</td>\n",
       "      <td>31.863</td>\n",
       "      <td>2.314</td>\n",
       "      <td>24.378</td>\n",
       "      <td>80.492</td>\n",
       "      <td>178.855</td>\n",
       "      <td>2.427</td>\n",
       "      <td>2.128</td>\n",
       "      <td>1.420</td>\n",
       "      <td>3.262</td>\n",
       "      <td>3.262</td>\n",
       "      <td>0.00001</td>\n",
       "    </tr>\n",
       "  </tbody>\n",
       "</table>\n",
       "</div>"
      ],
      "text/plain": [
       "   LABEL       AC     CNL    DEN     CAL      GR       SP     PE    R25  \\\n",
       "0      1  299.852  28.003  2.413  22.521  89.074  180.003  3.713  2.813   \n",
       "1      1  358.319  36.019  2.332  26.886  88.415  180.122  2.551  4.239   \n",
       "2      0  345.092  22.082  2.217  21.742  61.294  142.670  2.030  3.717   \n",
       "3      1  363.517  48.564  2.299  23.598  67.300  169.452  2.282  3.839   \n",
       "4      1  345.041  31.863  2.314  24.378  80.492  178.855  2.427  2.128   \n",
       "\n",
       "     RMG     RT   AT90  POR_data  \n",
       "0  2.474  3.060  3.060   0.00001  \n",
       "1  1.630  4.206  4.206   0.00001  \n",
       "2  2.010  4.889  4.889  24.50000  \n",
       "3  1.158  2.833  2.833   0.00001  \n",
       "4  1.420  3.262  3.262   0.00001  "
      ]
     },
     "execution_count": 47,
     "metadata": {},
     "output_type": "execute_result"
    }
   ],
   "source": [
    "data = pd.read_excel('/root/autodl-tmp/be_great-main/few_data.xlsx')\n",
    "data.head()"
   ]
  },
  {
   "cell_type": "code",
   "execution_count": 7,
   "id": "5d99184c",
   "metadata": {},
   "outputs": [],
   "source": [
    "data.columns = [\"sepal length\", \"sepal width\", \"petal length\", \"petal width\", \"target\"]"
   ]
  },
  {
   "cell_type": "markdown",
   "id": "5911b9b1",
   "metadata": {},
   "source": [
    "### Create GReaT Model"
   ]
  },
  {
   "cell_type": "code",
   "execution_count": 48,
   "id": "1a316696",
   "metadata": {},
   "outputs": [],
   "source": [
    "\n",
    "great = GReaT(\"distilgpt2\",                  # Name of the large language model used (see HuggingFace for more options)\n",
    "              epochs=1000,                   # Number of epochs to train\n",
    "              save_steps=200,               # Save model weights every x steps\n",
    "              logging_steps=500,             # Log the loss and learning rate every x steps\n",
    "              experiment_dir=\"trainer_well\", # Name of the directory where all intermediate steps are saved\n",
    "              batch_size=16,                 # Batch Size\n",
    "              #lr_scheduler_type=\"constant\", # Specify the learning rate scheduler \n",
    "              #learning_rate=5e-5            # Set the inital learning rate\n",
    "             )"
   ]
  },
  {
   "cell_type": "markdown",
   "id": "3c7b173f",
   "metadata": {},
   "source": [
    "### Start Training"
   ]
  },
  {
   "cell_type": "code",
   "execution_count": 49,
   "id": "200e000c",
   "metadata": {
    "scrolled": true
   },
   "outputs": [
    {
     "name": "stderr",
     "output_type": "stream",
     "text": [
      "\u001b[39;20m2025-04-12 17:11:40,341 - INFO - Convert data into HuggingFace dataset object... (great.py:153)\u001b[0m\n",
      "\u001b[39;20m2025-04-12 17:11:40,341 - INFO - Convert data into HuggingFace dataset object... (great.py:153)\u001b[0m\n",
      "\u001b[39;20m2025-04-12 17:11:40,341 - INFO - Convert data into HuggingFace dataset object... (great.py:153)\u001b[0m\n",
      "\u001b[39;20m2025-04-12 17:11:40,341 - INFO - Convert data into HuggingFace dataset object... (great.py:153)\u001b[0m\n",
      "\u001b[39;20m2025-04-12 17:11:40,354 - INFO - Create GReaT Trainer... (great.py:158)\u001b[0m\n",
      "\u001b[39;20m2025-04-12 17:11:40,354 - INFO - Create GReaT Trainer... (great.py:158)\u001b[0m\n",
      "\u001b[39;20m2025-04-12 17:11:40,354 - INFO - Create GReaT Trainer... (great.py:158)\u001b[0m\n",
      "\u001b[39;20m2025-04-12 17:11:40,354 - INFO - Create GReaT Trainer... (great.py:158)\u001b[0m\n",
      "/root/autodl-tmp/be_great-main/be_great/great.py:165: FutureWarning: `tokenizer` is deprecated and will be removed in version 5.0.0 for `GReaTTrainer.__init__`. Use `processing_class` instead.\n",
      "  great_trainer = GReaTTrainer(\n",
      "\u001b[39;20m2025-04-12 17:11:40,364 - INFO - Start training... (great.py:174)\u001b[0m\n",
      "\u001b[39;20m2025-04-12 17:11:40,364 - INFO - Start training... (great.py:174)\u001b[0m\n",
      "\u001b[39;20m2025-04-12 17:11:40,364 - INFO - Start training... (great.py:174)\u001b[0m\n",
      "\u001b[39;20m2025-04-12 17:11:40,364 - INFO - Start training... (great.py:174)\u001b[0m\n",
      "You're using a GPT2TokenizerFast tokenizer. Please note that with a fast tokenizer, using the `__call__` method is faster than using a method to encode the text followed by a call to the `pad` method to get a padded encoding.\n"
     ]
    },
    {
     "data": {
      "text/html": [
       "\n",
       "    <div>\n",
       "      \n",
       "      <progress value='5000' max='5000' style='width:300px; height:20px; vertical-align: middle;'></progress>\n",
       "      [5000/5000 1:05:51, Epoch 1000/1000]\n",
       "    </div>\n",
       "    <table border=\"1\" class=\"dataframe\">\n",
       "  <thead>\n",
       " <tr style=\"text-align: left;\">\n",
       "      <th>Step</th>\n",
       "      <th>Training Loss</th>\n",
       "    </tr>\n",
       "  </thead>\n",
       "  <tbody>\n",
       "    <tr>\n",
       "      <td>500</td>\n",
       "      <td>1.211600</td>\n",
       "    </tr>\n",
       "    <tr>\n",
       "      <td>1000</td>\n",
       "      <td>0.716100</td>\n",
       "    </tr>\n",
       "    <tr>\n",
       "      <td>1500</td>\n",
       "      <td>0.501100</td>\n",
       "    </tr>\n",
       "    <tr>\n",
       "      <td>2000</td>\n",
       "      <td>0.406600</td>\n",
       "    </tr>\n",
       "    <tr>\n",
       "      <td>2500</td>\n",
       "      <td>0.369600</td>\n",
       "    </tr>\n",
       "    <tr>\n",
       "      <td>3000</td>\n",
       "      <td>0.349300</td>\n",
       "    </tr>\n",
       "    <tr>\n",
       "      <td>3500</td>\n",
       "      <td>0.336700</td>\n",
       "    </tr>\n",
       "    <tr>\n",
       "      <td>4000</td>\n",
       "      <td>0.329300</td>\n",
       "    </tr>\n",
       "    <tr>\n",
       "      <td>4500</td>\n",
       "      <td>0.323900</td>\n",
       "    </tr>\n",
       "    <tr>\n",
       "      <td>5000</td>\n",
       "      <td>0.321900</td>\n",
       "    </tr>\n",
       "  </tbody>\n",
       "</table><p>"
      ],
      "text/plain": [
       "<IPython.core.display.HTML object>"
      ]
     },
     "metadata": {},
     "output_type": "display_data"
    }
   ],
   "source": [
    "trainer = great.fit(data)"
   ]
  },
  {
   "cell_type": "code",
   "execution_count": 50,
   "id": "cfe8184d",
   "metadata": {},
   "outputs": [
    {
     "data": {
      "text/plain": [
       "{'train_runtime': 3952.0548,\n",
       " 'train_samples_per_second': 20.243,\n",
       " 'train_steps_per_second': 1.265,\n",
       " 'total_flos': 1842697347268608.0,\n",
       " 'train_loss': 0.4866118072509766,\n",
       " 'epoch': 1000.0,\n",
       " 'step': 5000}"
      ]
     },
     "execution_count": 50,
     "metadata": {},
     "output_type": "execute_result"
    }
   ],
   "source": [
    "loss_hist = trainer.state.log_history.copy()\n",
    "loss_hist.pop()"
   ]
  },
  {
   "cell_type": "code",
   "execution_count": 51,
   "id": "76deeb9e",
   "metadata": {},
   "outputs": [],
   "source": [
    "loss = [x[\"loss\"] for x in loss_hist]\n",
    "epochs = [x[\"epoch\"] for x in loss_hist]"
   ]
  },
  {
   "cell_type": "code",
   "execution_count": 52,
   "id": "bcd7fc6f",
   "metadata": {},
   "outputs": [
    {
     "data": {
      "text/plain": [
       "[<matplotlib.lines.Line2D at 0x7f26543b97b0>]"
      ]
     },
     "execution_count": 52,
     "metadata": {},
     "output_type": "execute_result"
    },
    {
     "name": "stderr",
     "output_type": "stream",
     "text": [
      "\u001b[33;20m2025-04-12 19:31:47,948 - WARNING - findfont: Font family 'Arial' not found. (font_manager.py:1371)\u001b[0m\n",
      "\u001b[33;20m2025-04-12 19:31:47,948 - WARNING - findfont: Font family 'Arial' not found. (font_manager.py:1371)\u001b[0m\n",
      "\u001b[33;20m2025-04-12 19:31:47,948 - WARNING - findfont: Font family 'Arial' not found. (font_manager.py:1371)\u001b[0m\n",
      "\u001b[33;20m2025-04-12 19:31:47,948 - WARNING - findfont: Font family 'Arial' not found. (font_manager.py:1371)\u001b[0m\n",
      "\u001b[33;20m2025-04-12 19:31:47,951 - WARNING - findfont: Font family 'Arial' not found. (font_manager.py:1371)\u001b[0m\n",
      "\u001b[33;20m2025-04-12 19:31:47,951 - WARNING - findfont: Font family 'Arial' not found. (font_manager.py:1371)\u001b[0m\n",
      "\u001b[33;20m2025-04-12 19:31:47,951 - WARNING - findfont: Font family 'Arial' not found. (font_manager.py:1371)\u001b[0m\n",
      "\u001b[33;20m2025-04-12 19:31:47,951 - WARNING - findfont: Font family 'Arial' not found. (font_manager.py:1371)\u001b[0m\n",
      "\u001b[33;20m2025-04-12 19:31:47,953 - WARNING - findfont: Font family 'Arial' not found. (font_manager.py:1371)\u001b[0m\n",
      "\u001b[33;20m2025-04-12 19:31:47,953 - WARNING - findfont: Font family 'Arial' not found. (font_manager.py:1371)\u001b[0m\n",
      "\u001b[33;20m2025-04-12 19:31:47,953 - WARNING - findfont: Font family 'Arial' not found. (font_manager.py:1371)\u001b[0m\n",
      "\u001b[33;20m2025-04-12 19:31:47,953 - WARNING - findfont: Font family 'Arial' not found. (font_manager.py:1371)\u001b[0m\n",
      "\u001b[33;20m2025-04-12 19:31:47,955 - WARNING - findfont: Font family 'Arial' not found. (font_manager.py:1371)\u001b[0m\n",
      "\u001b[33;20m2025-04-12 19:31:47,955 - WARNING - findfont: Font family 'Arial' not found. (font_manager.py:1371)\u001b[0m\n",
      "\u001b[33;20m2025-04-12 19:31:47,955 - WARNING - findfont: Font family 'Arial' not found. (font_manager.py:1371)\u001b[0m\n",
      "\u001b[33;20m2025-04-12 19:31:47,955 - WARNING - findfont: Font family 'Arial' not found. (font_manager.py:1371)\u001b[0m\n",
      "\u001b[33;20m2025-04-12 19:31:47,957 - WARNING - findfont: Font family 'Arial' not found. (font_manager.py:1371)\u001b[0m\n",
      "\u001b[33;20m2025-04-12 19:31:47,957 - WARNING - findfont: Font family 'Arial' not found. (font_manager.py:1371)\u001b[0m\n",
      "\u001b[33;20m2025-04-12 19:31:47,957 - WARNING - findfont: Font family 'Arial' not found. (font_manager.py:1371)\u001b[0m\n",
      "\u001b[33;20m2025-04-12 19:31:47,957 - WARNING - findfont: Font family 'Arial' not found. (font_manager.py:1371)\u001b[0m\n",
      "\u001b[33;20m2025-04-12 19:31:47,959 - WARNING - findfont: Font family 'Arial' not found. (font_manager.py:1371)\u001b[0m\n",
      "\u001b[33;20m2025-04-12 19:31:47,959 - WARNING - findfont: Font family 'Arial' not found. (font_manager.py:1371)\u001b[0m\n",
      "\u001b[33;20m2025-04-12 19:31:47,959 - WARNING - findfont: Font family 'Arial' not found. (font_manager.py:1371)\u001b[0m\n",
      "\u001b[33;20m2025-04-12 19:31:47,959 - WARNING - findfont: Font family 'Arial' not found. (font_manager.py:1371)\u001b[0m\n",
      "\u001b[33;20m2025-04-12 19:31:47,961 - WARNING - findfont: Font family 'Arial' not found. (font_manager.py:1371)\u001b[0m\n",
      "\u001b[33;20m2025-04-12 19:31:47,961 - WARNING - findfont: Font family 'Arial' not found. (font_manager.py:1371)\u001b[0m\n",
      "\u001b[33;20m2025-04-12 19:31:47,961 - WARNING - findfont: Font family 'Arial' not found. (font_manager.py:1371)\u001b[0m\n",
      "\u001b[33;20m2025-04-12 19:31:47,961 - WARNING - findfont: Font family 'Arial' not found. (font_manager.py:1371)\u001b[0m\n",
      "\u001b[33;20m2025-04-12 19:31:47,964 - WARNING - findfont: Font family 'Arial' not found. (font_manager.py:1371)\u001b[0m\n",
      "\u001b[33;20m2025-04-12 19:31:47,964 - WARNING - findfont: Font family 'Arial' not found. (font_manager.py:1371)\u001b[0m\n",
      "\u001b[33;20m2025-04-12 19:31:47,964 - WARNING - findfont: Font family 'Arial' not found. (font_manager.py:1371)\u001b[0m\n",
      "\u001b[33;20m2025-04-12 19:31:47,964 - WARNING - findfont: Font family 'Arial' not found. (font_manager.py:1371)\u001b[0m\n",
      "\u001b[33;20m2025-04-12 19:31:47,966 - WARNING - findfont: Font family 'Arial' not found. (font_manager.py:1371)\u001b[0m\n",
      "\u001b[33;20m2025-04-12 19:31:47,966 - WARNING - findfont: Font family 'Arial' not found. (font_manager.py:1371)\u001b[0m\n",
      "\u001b[33;20m2025-04-12 19:31:47,966 - WARNING - findfont: Font family 'Arial' not found. (font_manager.py:1371)\u001b[0m\n",
      "\u001b[33;20m2025-04-12 19:31:47,966 - WARNING - findfont: Font family 'Arial' not found. (font_manager.py:1371)\u001b[0m\n",
      "\u001b[33;20m2025-04-12 19:31:47,968 - WARNING - findfont: Font family 'Arial' not found. (font_manager.py:1371)\u001b[0m\n",
      "\u001b[33;20m2025-04-12 19:31:47,968 - WARNING - findfont: Font family 'Arial' not found. (font_manager.py:1371)\u001b[0m\n",
      "\u001b[33;20m2025-04-12 19:31:47,968 - WARNING - findfont: Font family 'Arial' not found. (font_manager.py:1371)\u001b[0m\n",
      "\u001b[33;20m2025-04-12 19:31:47,968 - WARNING - findfont: Font family 'Arial' not found. (font_manager.py:1371)\u001b[0m\n",
      "\u001b[33;20m2025-04-12 19:31:47,970 - WARNING - findfont: Font family 'Arial' not found. (font_manager.py:1371)\u001b[0m\n",
      "\u001b[33;20m2025-04-12 19:31:47,970 - WARNING - findfont: Font family 'Arial' not found. (font_manager.py:1371)\u001b[0m\n",
      "\u001b[33;20m2025-04-12 19:31:47,970 - WARNING - findfont: Font family 'Arial' not found. (font_manager.py:1371)\u001b[0m\n",
      "\u001b[33;20m2025-04-12 19:31:47,970 - WARNING - findfont: Font family 'Arial' not found. (font_manager.py:1371)\u001b[0m\n",
      "\u001b[33;20m2025-04-12 19:31:47,980 - WARNING - findfont: Font family 'Arial' not found. (font_manager.py:1371)\u001b[0m\n",
      "\u001b[33;20m2025-04-12 19:31:47,980 - WARNING - findfont: Font family 'Arial' not found. (font_manager.py:1371)\u001b[0m\n",
      "\u001b[33;20m2025-04-12 19:31:47,980 - WARNING - findfont: Font family 'Arial' not found. (font_manager.py:1371)\u001b[0m\n",
      "\u001b[33;20m2025-04-12 19:31:47,980 - WARNING - findfont: Font family 'Arial' not found. (font_manager.py:1371)\u001b[0m\n",
      "\u001b[33;20m2025-04-12 19:31:47,982 - WARNING - findfont: Font family 'Arial' not found. (font_manager.py:1371)\u001b[0m\n"
     ]
    },
    {
     "name": "stderr",
     "output_type": "stream",
     "text": [
      "\u001b[33;20m2025-04-12 19:31:47,982 - WARNING - findfont: Font family 'Arial' not found. (font_manager.py:1371)\u001b[0m\n",
      "\u001b[33;20m2025-04-12 19:31:47,982 - WARNING - findfont: Font family 'Arial' not found. (font_manager.py:1371)\u001b[0m\n",
      "\u001b[33;20m2025-04-12 19:31:47,982 - WARNING - findfont: Font family 'Arial' not found. (font_manager.py:1371)\u001b[0m\n",
      "\u001b[33;20m2025-04-12 19:31:47,984 - WARNING - findfont: Font family 'Arial' not found. (font_manager.py:1371)\u001b[0m\n",
      "\u001b[33;20m2025-04-12 19:31:47,984 - WARNING - findfont: Font family 'Arial' not found. (font_manager.py:1371)\u001b[0m\n",
      "\u001b[33;20m2025-04-12 19:31:47,984 - WARNING - findfont: Font family 'Arial' not found. (font_manager.py:1371)\u001b[0m\n",
      "\u001b[33;20m2025-04-12 19:31:47,984 - WARNING - findfont: Font family 'Arial' not found. (font_manager.py:1371)\u001b[0m\n",
      "\u001b[33;20m2025-04-12 19:31:47,986 - WARNING - findfont: Font family 'Arial' not found. (font_manager.py:1371)\u001b[0m\n",
      "\u001b[33;20m2025-04-12 19:31:47,986 - WARNING - findfont: Font family 'Arial' not found. (font_manager.py:1371)\u001b[0m\n",
      "\u001b[33;20m2025-04-12 19:31:47,986 - WARNING - findfont: Font family 'Arial' not found. (font_manager.py:1371)\u001b[0m\n",
      "\u001b[33;20m2025-04-12 19:31:47,986 - WARNING - findfont: Font family 'Arial' not found. (font_manager.py:1371)\u001b[0m\n",
      "\u001b[33;20m2025-04-12 19:31:47,988 - WARNING - findfont: Font family 'Arial' not found. (font_manager.py:1371)\u001b[0m\n",
      "\u001b[33;20m2025-04-12 19:31:47,988 - WARNING - findfont: Font family 'Arial' not found. (font_manager.py:1371)\u001b[0m\n",
      "\u001b[33;20m2025-04-12 19:31:47,988 - WARNING - findfont: Font family 'Arial' not found. (font_manager.py:1371)\u001b[0m\n",
      "\u001b[33;20m2025-04-12 19:31:47,988 - WARNING - findfont: Font family 'Arial' not found. (font_manager.py:1371)\u001b[0m\n",
      "\u001b[33;20m2025-04-12 19:31:47,990 - WARNING - findfont: Font family 'Arial' not found. (font_manager.py:1371)\u001b[0m\n",
      "\u001b[33;20m2025-04-12 19:31:47,990 - WARNING - findfont: Font family 'Arial' not found. (font_manager.py:1371)\u001b[0m\n",
      "\u001b[33;20m2025-04-12 19:31:47,990 - WARNING - findfont: Font family 'Arial' not found. (font_manager.py:1371)\u001b[0m\n",
      "\u001b[33;20m2025-04-12 19:31:47,990 - WARNING - findfont: Font family 'Arial' not found. (font_manager.py:1371)\u001b[0m\n",
      "\u001b[33;20m2025-04-12 19:31:47,993 - WARNING - findfont: Font family 'Arial' not found. (font_manager.py:1371)\u001b[0m\n",
      "\u001b[33;20m2025-04-12 19:31:47,993 - WARNING - findfont: Font family 'Arial' not found. (font_manager.py:1371)\u001b[0m\n",
      "\u001b[33;20m2025-04-12 19:31:47,993 - WARNING - findfont: Font family 'Arial' not found. (font_manager.py:1371)\u001b[0m\n",
      "\u001b[33;20m2025-04-12 19:31:47,993 - WARNING - findfont: Font family 'Arial' not found. (font_manager.py:1371)\u001b[0m\n",
      "\u001b[33;20m2025-04-12 19:31:47,995 - WARNING - findfont: Font family 'Arial' not found. (font_manager.py:1371)\u001b[0m\n",
      "\u001b[33;20m2025-04-12 19:31:47,995 - WARNING - findfont: Font family 'Arial' not found. (font_manager.py:1371)\u001b[0m\n",
      "\u001b[33;20m2025-04-12 19:31:47,995 - WARNING - findfont: Font family 'Arial' not found. (font_manager.py:1371)\u001b[0m\n",
      "\u001b[33;20m2025-04-12 19:31:47,995 - WARNING - findfont: Font family 'Arial' not found. (font_manager.py:1371)\u001b[0m\n",
      "\u001b[33;20m2025-04-12 19:31:47,997 - WARNING - findfont: Font family 'Arial' not found. (font_manager.py:1371)\u001b[0m\n",
      "\u001b[33;20m2025-04-12 19:31:47,997 - WARNING - findfont: Font family 'Arial' not found. (font_manager.py:1371)\u001b[0m\n",
      "\u001b[33;20m2025-04-12 19:31:47,997 - WARNING - findfont: Font family 'Arial' not found. (font_manager.py:1371)\u001b[0m\n",
      "\u001b[33;20m2025-04-12 19:31:47,997 - WARNING - findfont: Font family 'Arial' not found. (font_manager.py:1371)\u001b[0m\n",
      "\u001b[33;20m2025-04-12 19:31:48,000 - WARNING - findfont: Font family 'Arial' not found. (font_manager.py:1371)\u001b[0m\n",
      "\u001b[33;20m2025-04-12 19:31:48,000 - WARNING - findfont: Font family 'Arial' not found. (font_manager.py:1371)\u001b[0m\n",
      "\u001b[33;20m2025-04-12 19:31:48,000 - WARNING - findfont: Font family 'Arial' not found. (font_manager.py:1371)\u001b[0m\n",
      "\u001b[33;20m2025-04-12 19:31:48,000 - WARNING - findfont: Font family 'Arial' not found. (font_manager.py:1371)\u001b[0m\n",
      "\u001b[33;20m2025-04-12 19:31:48,037 - WARNING - findfont: Font family 'Arial' not found. (font_manager.py:1371)\u001b[0m\n",
      "\u001b[33;20m2025-04-12 19:31:48,037 - WARNING - findfont: Font family 'Arial' not found. (font_manager.py:1371)\u001b[0m\n",
      "\u001b[33;20m2025-04-12 19:31:48,037 - WARNING - findfont: Font family 'Arial' not found. (font_manager.py:1371)\u001b[0m\n",
      "\u001b[33;20m2025-04-12 19:31:48,037 - WARNING - findfont: Font family 'Arial' not found. (font_manager.py:1371)\u001b[0m\n",
      "\u001b[33;20m2025-04-12 19:31:48,039 - WARNING - findfont: Font family 'Arial' not found. (font_manager.py:1371)\u001b[0m\n",
      "\u001b[33;20m2025-04-12 19:31:48,039 - WARNING - findfont: Font family 'Arial' not found. (font_manager.py:1371)\u001b[0m\n",
      "\u001b[33;20m2025-04-12 19:31:48,039 - WARNING - findfont: Font family 'Arial' not found. (font_manager.py:1371)\u001b[0m\n",
      "\u001b[33;20m2025-04-12 19:31:48,039 - WARNING - findfont: Font family 'Arial' not found. (font_manager.py:1371)\u001b[0m\n",
      "\u001b[33;20m2025-04-12 19:31:48,041 - WARNING - findfont: Font family 'Arial' not found. (font_manager.py:1371)\u001b[0m\n",
      "\u001b[33;20m2025-04-12 19:31:48,041 - WARNING - findfont: Font family 'Arial' not found. (font_manager.py:1371)\u001b[0m\n",
      "\u001b[33;20m2025-04-12 19:31:48,041 - WARNING - findfont: Font family 'Arial' not found. (font_manager.py:1371)\u001b[0m\n",
      "\u001b[33;20m2025-04-12 19:31:48,041 - WARNING - findfont: Font family 'Arial' not found. (font_manager.py:1371)\u001b[0m\n",
      "\u001b[33;20m2025-04-12 19:31:48,043 - WARNING - findfont: Font family 'Arial' not found. (font_manager.py:1371)\u001b[0m\n",
      "\u001b[33;20m2025-04-12 19:31:48,043 - WARNING - findfont: Font family 'Arial' not found. (font_manager.py:1371)\u001b[0m\n",
      "\u001b[33;20m2025-04-12 19:31:48,043 - WARNING - findfont: Font family 'Arial' not found. (font_manager.py:1371)\u001b[0m\n",
      "\u001b[33;20m2025-04-12 19:31:48,043 - WARNING - findfont: Font family 'Arial' not found. (font_manager.py:1371)\u001b[0m\n",
      "\u001b[33;20m2025-04-12 19:31:48,044 - WARNING - findfont: Font family 'Arial' not found. (font_manager.py:1371)\u001b[0m\n",
      "\u001b[33;20m2025-04-12 19:31:48,044 - WARNING - findfont: Font family 'Arial' not found. (font_manager.py:1371)\u001b[0m\n",
      "\u001b[33;20m2025-04-12 19:31:48,044 - WARNING - findfont: Font family 'Arial' not found. (font_manager.py:1371)\u001b[0m\n",
      "\u001b[33;20m2025-04-12 19:31:48,044 - WARNING - findfont: Font family 'Arial' not found. (font_manager.py:1371)\u001b[0m\n",
      "\u001b[33;20m2025-04-12 19:31:48,046 - WARNING - findfont: Font family 'Arial' not found. (font_manager.py:1371)\u001b[0m\n",
      "\u001b[33;20m2025-04-12 19:31:48,046 - WARNING - findfont: Font family 'Arial' not found. (font_manager.py:1371)\u001b[0m\n",
      "\u001b[33;20m2025-04-12 19:31:48,046 - WARNING - findfont: Font family 'Arial' not found. (font_manager.py:1371)\u001b[0m\n",
      "\u001b[33;20m2025-04-12 19:31:48,046 - WARNING - findfont: Font family 'Arial' not found. (font_manager.py:1371)\u001b[0m\n",
      "\u001b[33;20m2025-04-12 19:31:48,048 - WARNING - findfont: Font family 'Arial' not found. (font_manager.py:1371)\u001b[0m\n",
      "\u001b[33;20m2025-04-12 19:31:48,048 - WARNING - findfont: Font family 'Arial' not found. (font_manager.py:1371)\u001b[0m\n",
      "\u001b[33;20m2025-04-12 19:31:48,048 - WARNING - findfont: Font family 'Arial' not found. (font_manager.py:1371)\u001b[0m\n",
      "\u001b[33;20m2025-04-12 19:31:48,048 - WARNING - findfont: Font family 'Arial' not found. (font_manager.py:1371)\u001b[0m\n",
      "\u001b[33;20m2025-04-12 19:31:48,051 - WARNING - findfont: Font family 'Arial' not found. (font_manager.py:1371)\u001b[0m\n",
      "\u001b[33;20m2025-04-12 19:31:48,051 - WARNING - findfont: Font family 'Arial' not found. (font_manager.py:1371)\u001b[0m\n",
      "\u001b[33;20m2025-04-12 19:31:48,051 - WARNING - findfont: Font family 'Arial' not found. (font_manager.py:1371)\u001b[0m\n",
      "\u001b[33;20m2025-04-12 19:31:48,051 - WARNING - findfont: Font family 'Arial' not found. (font_manager.py:1371)\u001b[0m\n",
      "\u001b[33;20m2025-04-12 19:31:48,053 - WARNING - findfont: Font family 'Arial' not found. (font_manager.py:1371)\u001b[0m\n",
      "\u001b[33;20m2025-04-12 19:31:48,053 - WARNING - findfont: Font family 'Arial' not found. (font_manager.py:1371)\u001b[0m\n",
      "\u001b[33;20m2025-04-12 19:31:48,053 - WARNING - findfont: Font family 'Arial' not found. (font_manager.py:1371)\u001b[0m\n",
      "\u001b[33;20m2025-04-12 19:31:48,053 - WARNING - findfont: Font family 'Arial' not found. (font_manager.py:1371)\u001b[0m\n",
      "\u001b[33;20m2025-04-12 19:31:48,055 - WARNING - findfont: Font family 'Arial' not found. (font_manager.py:1371)\u001b[0m\n",
      "\u001b[33;20m2025-04-12 19:31:48,055 - WARNING - findfont: Font family 'Arial' not found. (font_manager.py:1371)\u001b[0m\n",
      "\u001b[33;20m2025-04-12 19:31:48,055 - WARNING - findfont: Font family 'Arial' not found. (font_manager.py:1371)\u001b[0m\n",
      "\u001b[33;20m2025-04-12 19:31:48,055 - WARNING - findfont: Font family 'Arial' not found. (font_manager.py:1371)\u001b[0m\n",
      "\u001b[33;20m2025-04-12 19:31:48,058 - WARNING - findfont: Font family 'Arial' not found. (font_manager.py:1371)\u001b[0m\n",
      "\u001b[33;20m2025-04-12 19:31:48,058 - WARNING - findfont: Font family 'Arial' not found. (font_manager.py:1371)\u001b[0m\n",
      "\u001b[33;20m2025-04-12 19:31:48,058 - WARNING - findfont: Font family 'Arial' not found. (font_manager.py:1371)\u001b[0m\n",
      "\u001b[33;20m2025-04-12 19:31:48,058 - WARNING - findfont: Font family 'Arial' not found. (font_manager.py:1371)\u001b[0m\n",
      "\u001b[33;20m2025-04-12 19:31:48,063 - WARNING - findfont: Font family 'Arial' not found. (font_manager.py:1371)\u001b[0m\n",
      "\u001b[33;20m2025-04-12 19:31:48,063 - WARNING - findfont: Font family 'Arial' not found. (font_manager.py:1371)\u001b[0m\n",
      "\u001b[33;20m2025-04-12 19:31:48,063 - WARNING - findfont: Font family 'Arial' not found. (font_manager.py:1371)\u001b[0m\n",
      "\u001b[33;20m2025-04-12 19:31:48,063 - WARNING - findfont: Font family 'Arial' not found. (font_manager.py:1371)\u001b[0m\n",
      "\u001b[33;20m2025-04-12 19:31:48,065 - WARNING - findfont: Font family 'Arial' not found. (font_manager.py:1371)\u001b[0m\n",
      "\u001b[33;20m2025-04-12 19:31:48,065 - WARNING - findfont: Font family 'Arial' not found. (font_manager.py:1371)\u001b[0m\n",
      "\u001b[33;20m2025-04-12 19:31:48,065 - WARNING - findfont: Font family 'Arial' not found. (font_manager.py:1371)\u001b[0m\n",
      "\u001b[33;20m2025-04-12 19:31:48,065 - WARNING - findfont: Font family 'Arial' not found. (font_manager.py:1371)\u001b[0m\n",
      "\u001b[33;20m2025-04-12 19:31:48,067 - WARNING - findfont: Font family 'Arial' not found. (font_manager.py:1371)\u001b[0m\n",
      "\u001b[33;20m2025-04-12 19:31:48,067 - WARNING - findfont: Font family 'Arial' not found. (font_manager.py:1371)\u001b[0m\n",
      "\u001b[33;20m2025-04-12 19:31:48,067 - WARNING - findfont: Font family 'Arial' not found. (font_manager.py:1371)\u001b[0m\n",
      "\u001b[33;20m2025-04-12 19:31:48,067 - WARNING - findfont: Font family 'Arial' not found. (font_manager.py:1371)\u001b[0m\n",
      "\u001b[33;20m2025-04-12 19:31:48,069 - WARNING - findfont: Font family 'Arial' not found. (font_manager.py:1371)\u001b[0m\n",
      "\u001b[33;20m2025-04-12 19:31:48,069 - WARNING - findfont: Font family 'Arial' not found. (font_manager.py:1371)\u001b[0m\n",
      "\u001b[33;20m2025-04-12 19:31:48,069 - WARNING - findfont: Font family 'Arial' not found. (font_manager.py:1371)\u001b[0m\n",
      "\u001b[33;20m2025-04-12 19:31:48,069 - WARNING - findfont: Font family 'Arial' not found. (font_manager.py:1371)\u001b[0m\n",
      "\u001b[33;20m2025-04-12 19:31:48,070 - WARNING - findfont: Font family 'Arial' not found. (font_manager.py:1371)\u001b[0m\n",
      "\u001b[33;20m2025-04-12 19:31:48,070 - WARNING - findfont: Font family 'Arial' not found. (font_manager.py:1371)\u001b[0m\n",
      "\u001b[33;20m2025-04-12 19:31:48,070 - WARNING - findfont: Font family 'Arial' not found. (font_manager.py:1371)\u001b[0m\n",
      "\u001b[33;20m2025-04-12 19:31:48,070 - WARNING - findfont: Font family 'Arial' not found. (font_manager.py:1371)\u001b[0m\n",
      "\u001b[33;20m2025-04-12 19:31:48,073 - WARNING - findfont: Font family 'Arial' not found. (font_manager.py:1371)\u001b[0m\n",
      "\u001b[33;20m2025-04-12 19:31:48,073 - WARNING - findfont: Font family 'Arial' not found. (font_manager.py:1371)\u001b[0m\n",
      "\u001b[33;20m2025-04-12 19:31:48,073 - WARNING - findfont: Font family 'Arial' not found. (font_manager.py:1371)\u001b[0m\n",
      "\u001b[33;20m2025-04-12 19:31:48,073 - WARNING - findfont: Font family 'Arial' not found. (font_manager.py:1371)\u001b[0m\n",
      "\u001b[33;20m2025-04-12 19:31:48,078 - WARNING - findfont: Font family 'Arial' not found. (font_manager.py:1371)\u001b[0m\n",
      "\u001b[33;20m2025-04-12 19:31:48,078 - WARNING - findfont: Font family 'Arial' not found. (font_manager.py:1371)\u001b[0m\n",
      "\u001b[33;20m2025-04-12 19:31:48,078 - WARNING - findfont: Font family 'Arial' not found. (font_manager.py:1371)\u001b[0m\n",
      "\u001b[33;20m2025-04-12 19:31:48,078 - WARNING - findfont: Font family 'Arial' not found. (font_manager.py:1371)\u001b[0m\n",
      "\u001b[33;20m2025-04-12 19:31:48,080 - WARNING - findfont: Font family 'Arial' not found. (font_manager.py:1371)\u001b[0m\n",
      "\u001b[33;20m2025-04-12 19:31:48,080 - WARNING - findfont: Font family 'Arial' not found. (font_manager.py:1371)\u001b[0m\n",
      "\u001b[33;20m2025-04-12 19:31:48,080 - WARNING - findfont: Font family 'Arial' not found. (font_manager.py:1371)\u001b[0m\n",
      "\u001b[33;20m2025-04-12 19:31:48,080 - WARNING - findfont: Font family 'Arial' not found. (font_manager.py:1371)\u001b[0m\n",
      "\u001b[33;20m2025-04-12 19:31:48,083 - WARNING - findfont: Font family 'Arial' not found. (font_manager.py:1371)\u001b[0m\n",
      "\u001b[33;20m2025-04-12 19:31:48,083 - WARNING - findfont: Font family 'Arial' not found. (font_manager.py:1371)\u001b[0m\n",
      "\u001b[33;20m2025-04-12 19:31:48,083 - WARNING - findfont: Font family 'Arial' not found. (font_manager.py:1371)\u001b[0m\n",
      "\u001b[33;20m2025-04-12 19:31:48,083 - WARNING - findfont: Font family 'Arial' not found. (font_manager.py:1371)\u001b[0m\n",
      "\u001b[33;20m2025-04-12 19:31:48,085 - WARNING - findfont: Font family 'Arial' not found. (font_manager.py:1371)\u001b[0m\n",
      "\u001b[33;20m2025-04-12 19:31:48,085 - WARNING - findfont: Font family 'Arial' not found. (font_manager.py:1371)\u001b[0m\n",
      "\u001b[33;20m2025-04-12 19:31:48,085 - WARNING - findfont: Font family 'Arial' not found. (font_manager.py:1371)\u001b[0m\n",
      "\u001b[33;20m2025-04-12 19:31:48,085 - WARNING - findfont: Font family 'Arial' not found. (font_manager.py:1371)\u001b[0m\n"
     ]
    },
    {
     "data": {
      "image/png": "[encoded data removed]",
      "text/plain": [
       "<Figure size 640x480 with 1 Axes>"
      ]
     },
     "metadata": {},
     "output_type": "display_data"
    }
   ],
   "source": [
    "plt.plot(epochs, loss)"
   ]
  },
  {
   "cell_type": "markdown",
   "id": "a0073ca9",
   "metadata": {},
   "source": [
    "### Save Model"
   ]
  },
  {
   "cell_type": "code",
   "execution_count": 53,
   "id": "4ed119bf",
   "metadata": {},
   "outputs": [],
   "source": [
    "great.save(\"well\")"
   ]
  },
  {
   "cell_type": "markdown",
   "id": "6076d7aa",
   "metadata": {},
   "source": [
    "### Load Model"
   ]
  },
  {
   "cell_type": "code",
   "execution_count": 14,
   "id": "62d71bf2",
   "metadata": {},
   "outputs": [],
   "source": [
    "# great = GReaT.load_from_dir(\"iris\")"
   ]
  },
  {
   "cell_type": "markdown",
   "id": "fdb05fe0",
   "metadata": {},
   "source": [
    "### Generate Samples"
   ]
  },
  {
   "cell_type": "code",
   "execution_count": 73,
   "id": "4bb298ac",
   "metadata": {},
   "outputs": [],
   "source": [
    "n_samples = 1000"
   ]
  },
  {
   "cell_type": "code",
   "execution_count": 59,
   "id": "2106b9f2",
   "metadata": {},
   "outputs": [
    {
     "name": "stderr",
     "output_type": "stream",
     "text": [
      "145it [00:05, 26.12it/s]                        \n"
     ]
    }
   ],
   "source": [
    "samples = great.sample(n_samples, k=50,device=\"cpu\")"
   ]
  },
  {
   "cell_type": "code",
   "execution_count": 56,
   "id": "105aa225",
   "metadata": {},
   "outputs": [
    {
     "data": {
      "text/html": [
       "<div>\n",
       "<style scoped>\n",
       "    .dataframe tbody tr th:only-of-type {\n",
       "        vertical-align: middle;\n",
       "    }\n",
       "\n",
       "    .dataframe tbody tr th {\n",
       "        vertical-align: top;\n",
       "    }\n",
       "\n",
       "    .dataframe thead th {\n",
       "        text-align: right;\n",
       "    }\n",
       "</style>\n",
       "<table border=\"1\" class=\"dataframe\">\n",
       "  <thead>\n",
       "    <tr style=\"text-align: right;\">\n",
       "      <th></th>\n",
       "      <th>LABEL</th>\n",
       "      <th>AC</th>\n",
       "      <th>CNL</th>\n",
       "      <th>DEN</th>\n",
       "      <th>CAL</th>\n",
       "      <th>GR</th>\n",
       "      <th>SP</th>\n",
       "      <th>PE</th>\n",
       "      <th>R25</th>\n",
       "      <th>RMG</th>\n",
       "      <th>RT</th>\n",
       "      <th>AT90</th>\n",
       "      <th>POR_data</th>\n",
       "    </tr>\n",
       "  </thead>\n",
       "  <tbody>\n",
       "    <tr>\n",
       "      <th>0</th>\n",
       "      <td>0.0</td>\n",
       "      <td>334.757</td>\n",
       "      <td>36.125</td>\n",
       "      <td>2.133</td>\n",
       "      <td>25.118</td>\n",
       "      <td>86.568</td>\n",
       "      <td>155.171</td>\n",
       "      <td>1.745</td>\n",
       "      <td>7.161</td>\n",
       "      <td>2.763</td>\n",
       "      <td>9.824</td>\n",
       "      <td>9.824</td>\n",
       "      <td>0.00001</td>\n",
       "    </tr>\n",
       "    <tr>\n",
       "      <th>1</th>\n",
       "      <td>1.0</td>\n",
       "      <td>310.302</td>\n",
       "      <td>31.019</td>\n",
       "      <td>2.448</td>\n",
       "      <td>25.131</td>\n",
       "      <td>75.019</td>\n",
       "      <td>180.896</td>\n",
       "      <td>1.856</td>\n",
       "      <td>3.016</td>\n",
       "      <td>2.824</td>\n",
       "      <td>3.320</td>\n",
       "      <td>3.320</td>\n",
       "      <td>0.00001</td>\n",
       "    </tr>\n",
       "    <tr>\n",
       "      <th>2</th>\n",
       "      <td>0.0</td>\n",
       "      <td>332.824</td>\n",
       "      <td>36.259</td>\n",
       "      <td>2.118</td>\n",
       "      <td>21.967</td>\n",
       "      <td>70.841</td>\n",
       "      <td>159.113</td>\n",
       "      <td>1.291</td>\n",
       "      <td>12.482</td>\n",
       "      <td>4.859</td>\n",
       "      <td>16.150</td>\n",
       "      <td>16.150</td>\n",
       "      <td>0.00001</td>\n",
       "    </tr>\n",
       "    <tr>\n",
       "      <th>3</th>\n",
       "      <td>0.0</td>\n",
       "      <td>329.152</td>\n",
       "      <td>36.259</td>\n",
       "      <td>2.146</td>\n",
       "      <td>21.649</td>\n",
       "      <td>54.568</td>\n",
       "      <td>161.780</td>\n",
       "      <td>1.973</td>\n",
       "      <td>5.729</td>\n",
       "      <td>3.142</td>\n",
       "      <td>11.017</td>\n",
       "      <td>11.017</td>\n",
       "      <td>29.60000</td>\n",
       "    </tr>\n",
       "    <tr>\n",
       "      <th>4</th>\n",
       "      <td>0.0</td>\n",
       "      <td>327.084</td>\n",
       "      <td>36.060</td>\n",
       "      <td>2.150</td>\n",
       "      <td>21.899</td>\n",
       "      <td>80.630</td>\n",
       "      <td>160.213</td>\n",
       "      <td>1.517</td>\n",
       "      <td>4.504</td>\n",
       "      <td>4.558</td>\n",
       "      <td>8.276</td>\n",
       "      <td>8.276</td>\n",
       "      <td>0.00001</td>\n",
       "    </tr>\n",
       "  </tbody>\n",
       "</table>\n",
       "</div>"
      ],
      "text/plain": [
       "   LABEL       AC     CNL    DEN     CAL      GR       SP     PE     R25  \\\n",
       "0    0.0  334.757  36.125  2.133  25.118  86.568  155.171  1.745   7.161   \n",
       "1    1.0  310.302  31.019  2.448  25.131  75.019  180.896  1.856   3.016   \n",
       "2    0.0  332.824  36.259  2.118  21.967  70.841  159.113  1.291  12.482   \n",
       "3    0.0  329.152  36.259  2.146  21.649  54.568  161.780  1.973   5.729   \n",
       "4    0.0  327.084  36.060  2.150  21.899  80.630  160.213  1.517   4.504   \n",
       "\n",
       "     RMG      RT    AT90  POR_data  \n",
       "0  2.763   9.824   9.824   0.00001  \n",
       "1  2.824   3.320   3.320   0.00001  \n",
       "2  4.859  16.150  16.150   0.00001  \n",
       "3  3.142  11.017  11.017  29.60000  \n",
       "4  4.558   8.276   8.276   0.00001  "
      ]
     },
     "execution_count": 56,
     "metadata": {},
     "output_type": "execute_result"
    }
   ],
   "source": [
    "samples.head()"
   ]
  },
  {
   "cell_type": "code",
   "execution_count": 60,
   "id": "c6f534d4",
   "metadata": {},
   "outputs": [],
   "source": [
    "samples.to_csv(\"/root/autodl-tmp/be_great-main/examples//GReaT_samples1_few.csv\")"
   ]
  },
  {
   "cell_type": "markdown",
   "id": "a3a734ac",
   "metadata": {},
   "source": [
    "We can also influence the distribution of the column on which the generation is conditioned (In the original dataset all three target values (0, 1, 2) have a probability of 33%)."
   ]
  },
  {
   "cell_type": "code",
   "execution_count": 74,
   "id": "d6ada426",
   "metadata": {},
   "outputs": [
    {
     "name": "stderr",
     "output_type": "stream",
     "text": [
      "1021it [00:43, 23.22it/s]                         \n"
     ]
    }
   ],
   "source": [
    "samples_custom = great.sample(n_samples, k=50, start_col=\"LABEL\",\n",
    "                              start_col_dist={\"0\": 0.15, \"1\": 0.85},device=\"cpu\")"
   ]
  },
  {
   "cell_type": "code",
   "execution_count": 75,
   "id": "3510fa2e",
   "metadata": {},
   "outputs": [],
   "source": [
    "samples_custom.head()\n",
    "samples_custom.to_csv(\"/root/autodl-tmp/be_great-main/examples//GReaT_samples2.csv\")"
   ]
  }
 ],
 "metadata": {
  "kernelspec": {
   "display_name": "base",
   "language": "python",
   "name": "python3"
  },
  "language_info": {
   "codemirror_mode": {
    "name": "ipython",
    "version": 3
   },
   "file_extension": ".py",
   "mimetype": "text/x-python",
   "name": "python",
   "nbconvert_exporter": "python",
   "pygments_lexer": "ipython3",
   "version": "3.10.8"
  }
 },
 "nbformat": 4,
 "nbformat_minor": 5
}
